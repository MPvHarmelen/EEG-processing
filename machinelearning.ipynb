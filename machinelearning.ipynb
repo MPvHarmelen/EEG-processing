{
 "cells": [
  {
   "cell_type": "code",
   "execution_count": 28,
   "metadata": {
    "collapsed": false
   },
   "outputs": [
    {
     "name": "stdout",
     "output_type": "stream",
     "text": [
      "['01-12-2016', '14.29', 'v2', 'ppn1', 'meting2', 'filtered', 'cut.mat']\n",
      "['17-11-2016', '18.24', 'v1', 'ppn1', 'meting2', 'filtered', 'cut.mat']\n",
      "['01-12-2016', '18.02', 'v2', 'ppn1', 'meting4', 'filtered', 'cut.mat']\n",
      "['17-11-2016', '18.42', 'v1', 'ppn1', 'meting3', 'filtered', 'cut.mat']\n",
      "['01-12-2016', '14.50', 'v2', 'ppn1', 'meting3', 'filtered', 'cut.mat']\n",
      "['01-12-2016', '14.05', 'v2', 'ppn1', 'meting1', 'filtered', 'cut.mat']\n"
     ]
    }
   ],
   "source": [
    "import numpy as np\n",
    "import scipy.io as sio\n",
    "import pandas\n",
    "import os\n",
    "\n",
    "def transform_features(folder, commands_file):\n",
    "    \"\"\"\n",
    "    Return a matrix filled with data samples from the\n",
    "    files of the given folder, and return a vector with \n",
    "    the corresponding labels.\n",
    "    \"\"\"\n",
    "    X = []\n",
    "    Y = []\n",
    "    commands = pandas.read_csv(commands_file)\n",
    "    \n",
    "    for filename in os.listdir(folder):\n",
    "        data = sio.loadmat(os.path.join(folder,filename))['data']\n",
    "        file_info = filename.split('_')\n",
    "        print(file_info)\n",
    "        data = np.swapaxes(data,0,2)\n",
    "        for i in range(len(data)):\n",
    "            X.append(data[i].flatten())\n",
    "        Y.extend(commands[file_info[2]])\n",
    "        \n",
    "    return (np.matrix(X), np.array(Y))\n",
    "        \n",
    "train_x, train_y = transform_features('data/train','data/versions.csv')\n",
    "test_x, test_y = transform_features('data/test', 'data/versions.csv')"
   ]
  },
  {
   "cell_type": "code",
   "execution_count": 33,
   "metadata": {
    "collapsed": false
   },
   "outputs": [
    {
     "name": "stdout",
     "output_type": "stream",
     "text": [
      "['01-12-2016', '14.29', 'v2', 'ppn1', 'meting2', 'filtered', 'cut.mat']\n",
      "['17-11-2016', '18.24', 'v1', 'ppn1', 'meting2', 'filtered', 'cut.mat']\n",
      "['01-12-2016', '18.02', 'v2', 'ppn1', 'meting4', 'filtered', 'cut.mat']\n",
      "['17-11-2016', '18.42', 'v1', 'ppn1', 'meting3', 'filtered', 'cut.mat']\n",
      "['01-12-2016', '14.50', 'v2', 'ppn1', 'meting3', 'filtered', 'cut.mat']\n",
      "['01-12-2016', '14.05', 'v2', 'ppn1', 'meting1', 'filtered', 'cut.mat']\n"
     ]
    }
   ],
   "source": [
    "from sklearn import linear_model\n",
    "\n",
    "def learn_from_data(X, Y, alg='log'):\n",
    "\n",
    "    if alg == 'log':\n",
    "        model = linear_model.LogisticRegression(C=1.0)\n",
    "        model.fit(X,Y)\n",
    "    elif alg == 'nn':\n",
    "        model = Classifier(\n",
    "            layers=[\n",
    "                Layer(\"Rectifier\", units=100),\n",
    "                Layer(\"Sigmoid\")],\n",
    "            learning_rate=0.002,\n",
    "            n_iter=1000)\n",
    "        model.fit(X, Y)\n",
    "\n",
    "    return model\n",
    "\n",
    "train_x, train_y = transform_features('data/train','data/versions.csv')\n",
    "test_x, test_y = transform_features('data/test', 'data/versions.csv')"
   ]
  },
  {
   "cell_type": "code",
   "execution_count": 36,
   "metadata": {
    "collapsed": false
   },
   "outputs": [
    {
     "name": "stdout",
     "output_type": "stream",
     "text": [
      "0.65\n",
      "['rechts' 'rechts' 'links' 'links' 'links' 'rechts' 'rechts' 'links'\n",
      " 'rechts' 'rechts' 'links' 'rechts' 'rechts' 'links' 'links' 'rechts'\n",
      " 'links' 'rechts' 'rechts' 'links' 'links' 'rechts' 'links' 'links' 'links'\n",
      " 'rechts' 'rechts' 'rechts' 'links' 'links' 'links' 'links' 'links' 'links'\n",
      " 'links' 'links' 'links' 'rechts' 'links' 'links']\n"
     ]
    }
   ],
   "source": [
    "clf = learn_from_data(train_x, train_y, 'log')\n",
    "\n",
    "predictions = clf.predict(test_x)\n",
    "\n",
    "acc = 0\n",
    "\n",
    "for i in range(len(predictions)):\n",
    "    if predictions[i] == test_y[i]:\n",
    "        acc += 1\n",
    "\n",
    "print(acc / len(test_y))\n",
    "print(predictions)"
   ]
  },
  {
   "cell_type": "code",
   "execution_count": 35,
   "metadata": {
    "collapsed": false
   },
   "outputs": [
    {
     "name": "stdout",
     "output_type": "stream",
     "text": [
      "(200,)\n",
      "(200, 1)\n",
      "(40,)\n"
     ]
    }
   ],
   "source": [
    "def filter_commands(X, Y, commands):\n",
    "    indices = [i \n",
    "               for i, value in enumerate(Y) \n",
    "               if value in commands\n",
    "              ]\n",
    "    \n",
    "    X = np.take(X,indices)\n",
    "    Y = np.take(Y,indices)\n",
    "    print(Y.shape)\n",
    "    return (np.transpose(X),Y)\n",
    "\n",
    "train_x, train_y = filter_commands(train_x, train_y, ['links','rechts'])\n",
    "print(train_x.shape)\n",
    "test_x, test_y = filter_commands(test_x, test_y, ['links','rechts'])"
   ]
  },
  {
   "cell_type": "code",
   "execution_count": null,
   "metadata": {
    "collapsed": true
   },
   "outputs": [],
   "source": []
  }
 ],
 "metadata": {
  "kernelspec": {
   "display_name": "Python 3",
   "language": "python",
   "name": "python3"
  },
  "language_info": {
   "codemirror_mode": {
    "name": "ipython",
    "version": 3
   },
   "file_extension": ".py",
   "mimetype": "text/x-python",
   "name": "python",
   "nbconvert_exporter": "python",
   "pygments_lexer": "ipython3",
   "version": "3.3.5"
  }
 },
 "nbformat": 4,
 "nbformat_minor": 0
}
